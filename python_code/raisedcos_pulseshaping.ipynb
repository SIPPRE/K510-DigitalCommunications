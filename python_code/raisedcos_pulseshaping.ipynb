{
 "cells": [
  {
   "cell_type": "code",
   "execution_count": 10,
   "metadata": {},
   "outputs": [],
   "source": [
    "%matplotlib qt5\n",
    "#%matplotlib inline\n",
    "import numpy as np\n",
    "import matplotlib.pylab as plt\n",
    "import komm\n",
    "from numpy.random import randint\n",
    "\n",
    "\n",
    "\n",
    "SMALL_SIZE = 8\n",
    "MEDIUM_SIZE = 10\n",
    "BIGGER_SIZE = 12\n",
    "\n",
    "plt.allclose\n",
    "plt.rc('font', size=SMALL_SIZE)          # controls default text sizes\n",
    "plt.rc('axes', titlesize=SMALL_SIZE)     # fontsize of the axes title\n",
    "plt.rc('axes', labelsize=SMALL_SIZE)    # fontsize of the x and y labels\n",
    "plt.rc('xtick', labelsize=SMALL_SIZE)    # fontsize of the tick labels\n",
    "plt.rc('ytick', labelsize=SMALL_SIZE)    # fontsize of the tick labels\n",
    "plt.rc('legend', fontsize=SMALL_SIZE)    # legend fontsize\n",
    "plt.rc('figure', titlesize=SMALL_SIZE)  # fontsize of the figure title\n"
   ]
  },
  {
   "cell_type": "markdown",
   "metadata": {},
   "source": [
    "## Pulse shaping using Raised cosine pulse"
   ]
  },
  {
   "cell_type": "code",
   "execution_count": 15,
   "metadata": {},
   "outputs": [],
   "source": [
    "\n",
    "samples_per_symbol = 16              # Upsampling factor\n",
    "Nsym = 6                            # Filter span in symbol duration\n",
    "alpha = 0.5                         # Roll-off factor\n",
    "\n",
    "DataL = 20                              # Data length in symbols\n",
    "R = 1000                                 # Data rate (how many samples per sec)\n",
    "Fs = R*samples_per_symbol               # Sampling frequency\n",
    "\n",
    "x_input = 2* randint(0,2,DataL)-1       # input random data\n",
    "tx = 1000 * np.arange(0,DataL)/R        # time axis for the symbols (in msec)\n",
    "\n",
    "# Filter the sequence of symbols with the filter\n",
    "pulse = komm.RaisedCosinePulse(rolloff = alpha, length_in_symbols=Nsym)\n",
    "imp = pulse.impulse_response #this vector has stored all time domain of pulses in all delays ..., h(t+1), h(t), h(t-1), h(t-2), ...\n",
    "tx_filter = komm.TransmitFilter(pulse, samples_per_symbol=samples_per_symbol)\n",
    "\n",
    "y0 = tx_filter(x_input)             #this is the signal y(t)\n",
    "y0 = y0[:-samples_per_symbol*2] # we have to truncate the ending part\n",
    "\n",
    "t0 = 1000 * np.arange(0,(DataL+Nsym/2)*samples_per_symbol)/Fs\n",
    "\n",
    "# the following lines will filter group delay, since raised cosine filter is linear phase and symmetric\n",
    "filtDelay = Nsym/(2*R)\n",
    "y0 = y0[int(filtDelay*Fs):]\n",
    "t0 = 1000 * np.arange(0,DataL*samples_per_symbol)/Fs\n",
    "\n"
   ]
  },
  {
   "cell_type": "markdown",
   "metadata": {},
   "source": [
    "## Graph of the digital signal and the $y(t)$"
   ]
  },
  {
   "cell_type": "code",
   "execution_count": 16,
   "metadata": {},
   "outputs": [],
   "source": [
    "\n",
    "# plot the digital signal\n",
    "plt.figure\n",
    "ax = plt.subplot(111)\n",
    "ax.stem(tx,x_input, '-.')\n",
    "\n",
    "# plot the pulse modified signal\n",
    "ax= plt.subplot(111)\n",
    "plt.plot(t0,y0)\n",
    "plt.grid()\n",
    "plt.title('Pulse shaping using raised cosine pulse')\n",
    "plt.xlabel('Time (msec)')\n",
    "plt.ylabel('$y(t)$')\n",
    "plt.show()\n",
    "\n"
   ]
  },
  {
   "cell_type": "markdown",
   "metadata": {},
   "source": [
    "## plotting the different pulses that form the resulting pulse"
   ]
  },
  {
   "cell_type": "code",
   "execution_count": 51,
   "metadata": {},
   "outputs": [],
   "source": [
    "plt.figure\n",
    "ax = plt.subplot(111)\n",
    "\n",
    "for k, a in enumerate(x_input):\n",
    "    ax.plot(t0, a*pulse.impulse_response(t0 - k))\n",
    "ax.stem(tx,x_input, '-.')\n",
    "ax.plot(t0,y0,'k', linewidth = 3)\n",
    "plt.xlabel('Time (msec)')\n",
    "plt.grid()\n",
    "plt.title('Generation of the $y(t)$ pulse from individual raised cosine pulses')\n",
    "plt.show()"
   ]
  },
  {
   "cell_type": "code",
   "execution_count": null,
   "metadata": {},
   "outputs": [],
   "source": []
  }
 ],
 "metadata": {
  "interpreter": {
   "hash": "f4acc8b3785a234c144e9bec60146aa3808b7b3a3a9dabc612d5659abfa62461"
  },
  "kernelspec": {
   "display_name": "Python 3.9.7 64-bit ('digicomm': conda)",
   "language": "python",
   "name": "python3"
  },
  "language_info": {
   "codemirror_mode": {
    "name": "ipython",
    "version": 3
   },
   "file_extension": ".py",
   "mimetype": "text/x-python",
   "name": "python",
   "nbconvert_exporter": "python",
   "pygments_lexer": "ipython3",
   "version": "3.9.7"
  },
  "orig_nbformat": 4
 },
 "nbformat": 4,
 "nbformat_minor": 2
}
